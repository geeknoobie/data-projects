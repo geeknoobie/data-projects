{
 "cells": [
  {
   "cell_type": "code",
   "outputs": [],
   "source": [
    "# Step 1: importing required libraries\n",
    "import tensorflow as tf\n",
    "from transformers import BertTokenizer, TFBertForNextSentencePrediction\n",
    "from tensorflow.keras.losses import SparseCategoricalCrossentropy\n",
    "import numpy as np\n",
    "import pandas as pd"
   ],
   "metadata": {
    "collapsed": false,
    "ExecuteTime": {
     "end_time": "2024-04-24T05:18:43.764473Z",
     "start_time": "2024-04-24T05:18:33.500208Z"
    }
   },
   "id": "e9f4300561283019",
   "execution_count": 2
  },
  {
   "cell_type": "code",
   "outputs": [
    {
     "data": {
      "text/plain": "                                            sentence 1  \\\n0    If, then, they have no power, why dost thou pr...   \n1    But if they determine about nothing- which it ...   \n2    He who has a vehement desire for posthumous fa...   \n3    Things are in such a kind of envelopment that ...   \n4    So then that which is a hindrance to the intel...   \n..                                                 ...   \n502  He did not take the bath at unseasonable hours...   \n503  To-day I have got out of all trouble, or rathe...   \n504  But the motion of virtue is in none of these: ...   \n505  What kind of things those are which appear goo...   \n506                     Confine thyself to the present   \n\n                                            sentence 2  label  \n0    Where is it then? It is in that part of thee i...      1  \n1    The soul of man does violence to itself, first...      1  \n2    Suppose that men kill thee, cut thee in pieces...      1  \n3    Has any obstacle opposed thee in thy efforts t...      1  \n4    But he who has failed in any one of these thin...      1  \n..                                                 ...    ...  \n502  His dress came from Lorium, his villa on the c...      0  \n503  Remember that this which pulls the strings is ...      1  \n504  Dost thou not see how many qualities thou art ...      1  \n505  For if any man should conceive certain things ...      0  \n506  The dispute then, he said, is not about any co...      1  \n\n[507 rows x 3 columns]",
      "text/html": "<div>\n<style scoped>\n    .dataframe tbody tr th:only-of-type {\n        vertical-align: middle;\n    }\n\n    .dataframe tbody tr th {\n        vertical-align: top;\n    }\n\n    .dataframe thead th {\n        text-align: right;\n    }\n</style>\n<table border=\"1\" class=\"dataframe\">\n  <thead>\n    <tr style=\"text-align: right;\">\n      <th></th>\n      <th>sentence 1</th>\n      <th>sentence 2</th>\n      <th>label</th>\n    </tr>\n  </thead>\n  <tbody>\n    <tr>\n      <th>0</th>\n      <td>If, then, they have no power, why dost thou pr...</td>\n      <td>Where is it then? It is in that part of thee i...</td>\n      <td>1</td>\n    </tr>\n    <tr>\n      <th>1</th>\n      <td>But if they determine about nothing- which it ...</td>\n      <td>The soul of man does violence to itself, first...</td>\n      <td>1</td>\n    </tr>\n    <tr>\n      <th>2</th>\n      <td>He who has a vehement desire for posthumous fa...</td>\n      <td>Suppose that men kill thee, cut thee in pieces...</td>\n      <td>1</td>\n    </tr>\n    <tr>\n      <th>3</th>\n      <td>Things are in such a kind of envelopment that ...</td>\n      <td>Has any obstacle opposed thee in thy efforts t...</td>\n      <td>1</td>\n    </tr>\n    <tr>\n      <th>4</th>\n      <td>So then that which is a hindrance to the intel...</td>\n      <td>But he who has failed in any one of these thin...</td>\n      <td>1</td>\n    </tr>\n    <tr>\n      <th>...</th>\n      <td>...</td>\n      <td>...</td>\n      <td>...</td>\n    </tr>\n    <tr>\n      <th>502</th>\n      <td>He did not take the bath at unseasonable hours...</td>\n      <td>His dress came from Lorium, his villa on the c...</td>\n      <td>0</td>\n    </tr>\n    <tr>\n      <th>503</th>\n      <td>To-day I have got out of all trouble, or rathe...</td>\n      <td>Remember that this which pulls the strings is ...</td>\n      <td>1</td>\n    </tr>\n    <tr>\n      <th>504</th>\n      <td>But the motion of virtue is in none of these: ...</td>\n      <td>Dost thou not see how many qualities thou art ...</td>\n      <td>1</td>\n    </tr>\n    <tr>\n      <th>505</th>\n      <td>What kind of things those are which appear goo...</td>\n      <td>For if any man should conceive certain things ...</td>\n      <td>0</td>\n    </tr>\n    <tr>\n      <th>506</th>\n      <td>Confine thyself to the present</td>\n      <td>The dispute then, he said, is not about any co...</td>\n      <td>1</td>\n    </tr>\n  </tbody>\n</table>\n<p>507 rows × 3 columns</p>\n</div>"
     },
     "execution_count": 19,
     "metadata": {},
     "output_type": "execute_result"
    }
   ],
   "source": [
    "# Step 2: loading Data from a labeled dataset\n",
    "df = pd.read_csv('/Users/debabratapanda/Desktop/nsplabel.csv')\n",
    "df = df[df != '#NAME?']\n",
    "df"
   ],
   "metadata": {
    "collapsed": false,
    "ExecuteTime": {
     "end_time": "2024-04-24T18:16:54.301931Z",
     "start_time": "2024-04-24T18:16:54.274716Z"
    }
   },
   "id": "713d47f9b6a1a87d",
   "execution_count": 19
  },
  {
   "cell_type": "code",
   "outputs": [],
   "source": [
    "# making lists of inputs and defining datatype \n",
    "s1 = df['sentence 1'].astype(str).tolist()\n",
    "s2 = df['sentence 2'].astype(str).tolist()\n",
    "lb = df['label'].astype(int).tolist()"
   ],
   "metadata": {
    "collapsed": false,
    "ExecuteTime": {
     "end_time": "2024-04-24T18:17:31.285600Z",
     "start_time": "2024-04-24T18:17:31.259676Z"
    }
   },
   "id": "89b0bbcf5a136134",
   "execution_count": 20
  },
  {
   "cell_type": "code",
   "outputs": [],
   "source": [
    "# Step 3: tokenization of sentences \n",
    "tokenizer = BertTokenizer.from_pretrained('bert-base-uncased')\n",
    "inp = tokenizer(s1, s2, return_tensors='tf', padding=True, truncation=True)"
   ],
   "metadata": {
    "collapsed": false,
    "ExecuteTime": {
     "end_time": "2024-04-24T18:17:39.927229Z",
     "start_time": "2024-04-24T18:17:38.815301Z"
    }
   },
   "id": "5ef17d680c31c4f5",
   "execution_count": 22
  },
  {
   "cell_type": "code",
   "outputs": [
    {
     "name": "stderr",
     "output_type": "stream",
     "text": [
      "All PyTorch model weights were used when initializing TFBertForNextSentencePrediction.\n",
      "\n",
      "All the weights of TFBertForNextSentencePrediction were initialized from the PyTorch model.\n",
      "If your task is similar to the task the model of the checkpoint was trained on, you can already use TFBertForNextSentencePrediction for predictions without further training.\n"
     ]
    }
   ],
   "source": [
    "# Step 4: selecting a pretrained BERT model for the model creation and further learning \n",
    "model = TFBertForNextSentencePrediction.from_pretrained('bert-base-uncased')"
   ],
   "metadata": {
    "collapsed": false,
    "ExecuteTime": {
     "end_time": "2024-04-24T18:17:45.061808Z",
     "start_time": "2024-04-24T18:17:40.720571Z"
    }
   },
   "id": "b88b2b2d631b8709",
   "execution_count": 23
  },
  {
   "cell_type": "code",
   "outputs": [],
   "source": [
    "# configuring an input element combining all required elements from our tokenized input for training dataset creation   \n",
    "ip = (inp['input_ids'], inp['token_type_ids'], inp['attention_mask'])"
   ],
   "metadata": {
    "collapsed": false,
    "ExecuteTime": {
     "end_time": "2024-04-24T18:17:47.871576Z",
     "start_time": "2024-04-24T18:17:47.867285Z"
    }
   },
   "id": "11583f19c1f8657c",
   "execution_count": 24
  },
  {
   "cell_type": "code",
   "outputs": [],
   "source": [
    "# Step 5: Creating a dataset from the input tensors and labels\n",
    "dt = tf.data.Dataset.from_tensor_slices((ip, lb)).batch(32)"
   ],
   "metadata": {
    "collapsed": false,
    "ExecuteTime": {
     "end_time": "2024-04-24T18:17:50.567596Z",
     "start_time": "2024-04-24T18:17:50.559837Z"
    }
   },
   "id": "47b4d2068c648604",
   "execution_count": 25
  },
  {
   "cell_type": "code",
   "outputs": [],
   "source": [
    "# Step 6: Model compilation and parameter settings \n",
    "model.compile(optimizer=tf.keras.optimizers.Adam(learning_rate=2e-5), loss=SparseCategoricalCrossentropy(from_logits=True))"
   ],
   "metadata": {
    "collapsed": false,
    "ExecuteTime": {
     "end_time": "2024-04-24T18:17:51.732745Z",
     "start_time": "2024-04-24T18:17:51.718310Z"
    }
   },
   "id": "c18ab28c7df99b56",
   "execution_count": 26
  },
  {
   "cell_type": "code",
   "outputs": [
    {
     "name": "stdout",
     "output_type": "stream",
     "text": [
      "Epoch 1/7\n",
      "16/16 [==============================] - 1178s 73s/step - loss: 0.7131\n",
      "Epoch 2/7\n",
      "16/16 [==============================] - 1134s 71s/step - loss: 0.6599\n",
      "Epoch 3/7\n",
      "16/16 [==============================] - 1141s 71s/step - loss: 0.6190\n",
      "Epoch 4/7\n",
      "16/16 [==============================] - 1138s 71s/step - loss: 0.5645\n",
      "Epoch 5/7\n",
      "16/16 [==============================] - 1128s 70s/step - loss: 0.4914\n",
      "Epoch 6/7\n",
      "16/16 [==============================] - 1129s 71s/step - loss: 0.3776\n",
      "Epoch 7/7\n",
      "16/16 [==============================] - 1131s 70s/step - loss: 0.2869\n"
     ]
    },
    {
     "data": {
      "text/plain": "<keras.src.callbacks.History at 0x151bee7d0>"
     },
     "execution_count": 28,
     "metadata": {},
     "output_type": "execute_result"
    }
   ],
   "source": [
    "# Step 7: fitting our defined model on the created dataset\n",
    "model.fit(dt, epochs=7)"
   ],
   "metadata": {
    "collapsed": false,
    "ExecuteTime": {
     "end_time": "2024-04-25T03:08:06.009927Z",
     "start_time": "2024-04-25T00:55:05.342859Z"
    }
   },
   "id": "ff8eda817a1cc146",
   "execution_count": 28
  },
  {
   "cell_type": "code",
   "outputs": [],
   "source": [
    "# Step 8: Evaluating the model by creating a validation set from our loaded data and calculating loss on it \n",
    "vi = tokenizer(s1, s2, return_tensors='tf', padding=True, truncation=True)\n",
    "vl = np.array(lb)\n",
    "vt = (vi['input_ids'], vi['token_type_ids'], vi['attention_mask'])\n",
    "vd = tf.data.Dataset.from_tensor_slices((vt, vl)).batch(32)"
   ],
   "metadata": {
    "collapsed": false,
    "ExecuteTime": {
     "end_time": "2024-04-25T04:06:51.989059Z",
     "start_time": "2024-04-25T04:06:50.549965Z"
    }
   },
   "id": "6edeeb5b85fa66f5",
   "execution_count": 29
  },
  {
   "cell_type": "code",
   "outputs": [
    {
     "name": "stdout",
     "output_type": "stream",
     "text": [
      "16/16 [==============================] - 259s 16s/step - loss: 0.1795\n",
      "Validation Loss: 0.1795121431350708\n"
     ]
    }
   ],
   "source": [
    "ev = model.evaluate(vd)\n",
    "print(\"Validation Loss:\", ev)"
   ],
   "metadata": {
    "collapsed": false,
    "ExecuteTime": {
     "end_time": "2024-04-25T04:11:16.146591Z",
     "start_time": "2024-04-25T04:06:57.201644Z"
    }
   },
   "id": "c17d7f70a83525ad",
   "execution_count": 30
  },
  {
   "cell_type": "raw",
   "source": [
    "so our model evaluation results provides with a validation loss of 0.1795 which means our model has a error rate between the model's predictions and the actual values which means that during the task of NSP our model will have an error of 17% while predecting the next sentence after analysing and understading the context of the previous words. which means it has a general accuracy of 83% while predecting this high value of accuracy can be due to the small size of the training dataset along with that it can also be due to missclsified data that which was present in the dataset from the start and hence can not be irradicated as we do not know the source and how the data was created"
   ],
   "metadata": {
    "collapsed": false
   },
   "id": "2625dbcb566a8397"
  },
  {
   "cell_type": "code",
   "outputs": [],
   "source": [],
   "metadata": {
    "collapsed": false
   },
   "id": "1092ffcd5300cfed"
  }
 ],
 "metadata": {
  "kernelspec": {
   "display_name": "Python 3",
   "language": "python",
   "name": "python3"
  },
  "language_info": {
   "codemirror_mode": {
    "name": "ipython",
    "version": 2
   },
   "file_extension": ".py",
   "mimetype": "text/x-python",
   "name": "python",
   "nbconvert_exporter": "python",
   "pygments_lexer": "ipython2",
   "version": "2.7.6"
  }
 },
 "nbformat": 4,
 "nbformat_minor": 5
}
